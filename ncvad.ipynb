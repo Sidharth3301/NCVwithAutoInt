{
 "cells": [
  {
   "cell_type": "markdown",
   "metadata": {
    "id": "p8LcUlwJKFIG"
   },
   "source": [
    "# AutoInt example"
   ]
  },
  {
   "cell_type": "markdown",
   "metadata": {
    "id": "xvxmqpliPY94"
   },
   "source": [
    "## Imports"
   ]
  },
  {
   "cell_type": "markdown",
   "metadata": {
    "id": "gCSbelzxRej2"
   },
   "source": [
    "### A bunch of third-party libraries"
   ]
  },
  {
   "cell_type": "code",
   "execution_count": 1,
   "metadata": {
    "colab": {
     "base_uri": "https://localhost:8080/"
    },
    "id": "Uf4JlP-7OLrQ",
    "outputId": "c089c925-9754-47dc-bb95-be16546f0b34"
   },
   "outputs": [],
   "source": [
    "import torch\n",
    "import matplotlib.pyplot as plt\n",
    "import numpy as np\n",
    "from functools import partial\n",
    "from torch.utils.data import DataLoader\n",
    "from torchmeta.modules import MetaModule"
   ]
  },
  {
   "cell_type": "markdown",
   "metadata": {
    "id": "Y4fpzrWxRluK"
   },
   "source": [
    "### Our libraries"
   ]
  },
  {
   "cell_type": "code",
   "execution_count": 2,
   "metadata": {
    "colab": {
     "base_uri": "https://localhost:8080/"
    },
    "id": "BIM2d2vuRpUH",
    "outputId": "42b4d7c3-a362-4729-d8b1-44c557295b0f"
   },
   "outputs": [],
   "source": [
    "import sys\n",
    "import os\n",
    "    \n",
    "from autoint.session import Session\n",
    "import autoint.autograd_modules as autoint"
   ]
  },
  {
   "cell_type": "markdown",
   "metadata": {
    "id": "tNHuGxpdOYeh"
   },
   "source": [
    "## A class to create coordinates from a 1D function we wish to fit"
   ]
  },
  {
   "cell_type": "code",
   "execution_count": 3,
   "metadata": {
    "id": "n_9nVygnKENw"
   },
   "outputs": [],
   "source": [
    "class Implicit1DWrapper(torch.utils.data.Dataset):\n",
    "    def __init__(self, range, fn, grad_fn=None, integral_fn=None, sampling_density=100,\n",
    "                 train_every=10):\n",
    "\n",
    "        avg = (range[0] + range[1]) / 2\n",
    "\n",
    "        coords = self.get_samples(range, sampling_density)\n",
    "        self.fn_vals = fn(coords)\n",
    "        self.train_idx = torch.arange(0, coords.shape[0], train_every).float()\n",
    "\n",
    "        #coords = (coords - avg) / (range[1] - avg)\n",
    "        self.grid = coords\n",
    "        self.grid.requires_grad_(True)\n",
    "        #self.val_grid = val_coords\n",
    "\n",
    "        if grad_fn is None:\n",
    "            grid_gt_with_grad = coords\n",
    "            grid_gt_with_grad.requires_grad_(True)\n",
    "            fn_vals_with_grad = fn((grid_gt_with_grad * (range[1] - avg)) + avg)\n",
    "            gt_gradient = torch.autograd.grad(fn_vals_with_grad, [grid_gt_with_grad],\n",
    "                                              grad_outputs=torch.ones_like(grid_gt_with_grad), create_graph=True,\n",
    "                                              retain_graph=True)[0]\n",
    "            try:\n",
    "                gt_hessian = torch.autograd.grad(gt_gradient, [grid_gt_with_grad],\n",
    "                                                 grad_outputs=torch.ones_like(gt_gradient), retain_graph=True)[0]\n",
    "            except Exception as e:\n",
    "                gt_hessian = torch.zeros_like(gt_gradient)\n",
    "\n",
    "        else:\n",
    "            gt_gradient = grad_fn(coords) \n",
    "            gt_hessian = torch.zeros_like(gt_gradient)\n",
    "\n",
    "        self.integral_fn = integral_fn\n",
    "        if integral_fn:\n",
    "            self.integral_vals = integral_fn(coords)\n",
    "\n",
    "        self.gt_gradient = gt_gradient.detach()\n",
    "        self.gt_hessian = gt_hessian.detach()\n",
    "\n",
    "    def get_samples(self, range, sampling_density):\n",
    "        num = int(range[1] - range[0])*sampling_density\n",
    "        avg = (range[0] + range[1]) / 2\n",
    "        coords = np.linspace(start=range[0], stop=range[1], num=num)\n",
    "        coords.astype(np.float32)\n",
    "        coords = torch.Tensor(coords).view(-1, 1)\n",
    "        return coords\n",
    "\n",
    "    def get_num_samples(self):\n",
    "        return self.grid.shape[0]\n",
    "\n",
    "    def __len__(self):\n",
    "        return 1\n",
    "\n",
    "    def __getitem__(self, idx):\n",
    "        if self.integral_fn is not None:\n",
    "            return {'coords':self.grid}, {'integral_func': self.integral_vals, 'func':self.fn_vals,\n",
    "                    'gradients':self.gt_gradient, 'val_func': self.val_fn_vals,\n",
    "                    'val_coords': self.val_grid, 'hessian':self.gt_hessian}\n",
    "        else:\n",
    "            return {'idx': self.train_idx, 'coords':self.grid}, \\\n",
    "                   {'func': self.fn_vals, 'gradients':self.gt_gradient,\n",
    "                    'coords': self.grid}"
   ]
  },
  {
   "cell_type": "markdown",
   "metadata": {
    "id": "-ounsyPROmJe"
   },
   "source": [
    "## Different 1D functions we want to integrate"
   ]
  },
  {
   "cell_type": "code",
   "execution_count": 4,
   "metadata": {
    "id": "w8oKENjbOpbG"
   },
   "outputs": [],
   "source": [
    "def cos_fn(coords):\n",
    "  return torch.cos(10*coords)\n",
    "\n",
    "def polynomial_fn(coords):\n",
    "    return .1*coords**5 - .2*coords**4 + .2*coords**3 - .4*coords**2 + .1*coords\n",
    "\n",
    "def sinc_fn(coords):\n",
    "    coords[coords == 0] += 1\n",
    "    return torch.div(torch.sin(20*coords), 20*coords)\n",
    "\n",
    "def linear_fn(coords):\n",
    "    return 1.0 * coords\n",
    "\n",
    "def xcosx_fn(coords):\n",
    "    return coords * torch.cos(coords)\n",
    "\n",
    "def integral_xcosx_fn(coords):\n",
    "    return coords*torch.sin(coords) + torch.cos(coords)"
   ]
  },
  {
   "cell_type": "markdown",
   "metadata": {
    "id": "ir7qkzUwPhPS"
   },
   "source": []
  },
  {
   "cell_type": "markdown",
   "metadata": {
    "id": "2OSv8uMMPuy2"
   },
   "source": [
    "## Setting up the integral network & the grad network"
   ]
  },
  {
   "cell_type": "markdown",
   "metadata": {
    "id": "jVnl-6pQZv3S"
   },
   "source": [
    "We define an integral network using the AutoInt API. Here the integral network is a MLP with sine non-linearities: a SIREN."
   ]
  },
  {
   "cell_type": "code",
   "execution_count": 5,
   "metadata": {
    "id": "R1eePTXXXoJo"
   },
   "outputs": [],
   "source": [
    "class CV_SIREN(MetaModule):\n",
    "    def __init__(self, session):\n",
    "        super().__init__()\n",
    "\n",
    "        self.net = [] \n",
    "        self.input = autoint.Input(torch.Tensor(1, 1), id='x_coords')\n",
    "\n",
    "        self.net.append(autoint.Linear(1, 128))\n",
    "        self.net.append(autoint.Sine())\n",
    "        self.net.append(autoint.Linear(128, 128))\n",
    "        self.net.append(autoint.Sine())\n",
    "        self.net.append(autoint.Linear(128, 128))\n",
    "        self.net.append(autoint.Sine())\n",
    "        self.net.append(autoint.Linear(128, 128))\n",
    "        self.net.append(autoint.Sine())\n",
    "        self.net.append(autoint.Linear(128, 1))\n",
    "\n",
    "        self.net = torch.nn.Sequential(*self.net)\n",
    "        self.session = session\n",
    "\n",
    "    def input_init(self, input_tensor, m):\n",
    "        with torch.no_grad():\n",
    "            if isinstance(m, autoint.Input):\n",
    "                m.set_value(input_tensor, grad=True)\n",
    "\n",
    "    def constant_init(self, input_tensor, m):\n",
    "        with torch.no_grad():\n",
    "            if isinstance(m, autoint.Constant):\n",
    "                m.set_value(input_tensor, grad=False)\n",
    "    \n",
    "    def forward(self, x):\n",
    "        with torch.no_grad():\n",
    "            input_init_func = partial(self.input_init, x[:, 0, None])\n",
    "            self.input.apply(input_init_func)\n",
    "\n",
    "        input_ctx = autoint.Value(x, self.session)\n",
    "\n",
    "        out1 = self.input(input_ctx)\n",
    "        return self.net(out1)"
   ]
  },
  {
   "cell_type": "markdown",
   "metadata": {
    "id": "60jqgxBHZ65I"
   },
   "source": [
    "In AutoInt, a session will handle the derivation of the integral network into the grad network for you. It takes care of the reassembly of the weights too."
   ]
  },
  {
   "cell_type": "code",
   "execution_count": 6,
   "metadata": {
    "colab": {
     "base_uri": "https://localhost:8080/"
    },
    "id": "_oo7dJHLP4ks",
    "outputId": "ffd4812a-cd3f-4081-f10f-2e76332c56d7"
   },
   "outputs": [
    {
     "name": "stdout",
     "output_type": "stream",
     "text": [
      "Creating session: 363867698\n"
     ]
    }
   ],
   "source": [
    "integralnet_session = Session()"
   ]
  },
  {
   "cell_type": "markdown",
   "metadata": {
    "id": "8U_zJVLxaIQH"
   },
   "source": [
    "We instantiate the integral net we defined earlier. The session can be thought as representing the integral network."
   ]
  },
  {
   "cell_type": "code",
   "execution_count": 7,
   "metadata": {
    "colab": {
     "base_uri": "https://localhost:8080/"
    },
    "id": "YVtqZ3D7Yp1s",
    "outputId": "e5c9d2cd-4892-4ea1-cfc8-8d2a6624455c"
   },
   "outputs": [
    {
     "data": {
      "text/plain": [
       "SIREN(\n",
       "  (input): Input()\n",
       "  (net): Sequential(\n",
       "    (0): Linear()\n",
       "    (1): Sine()\n",
       "    (2): Linear()\n",
       "    (3): Sine()\n",
       "    (4): Linear()\n",
       "    (5): Sine()\n",
       "    (6): Linear()\n",
       "    (7): Sine()\n",
       "    (8): Linear()\n",
       "  )\n",
       "  (session): Session()\n",
       ")"
      ]
     },
     "execution_count": 7,
     "metadata": {},
     "output_type": "execute_result"
    }
   ],
   "source": [
    "net = CV_SIREN(integralnet_session)\n",
    " #add metal to the mix\n",
    "device = torch.device('mps' if torch.backends.mps.is_available() else 'cpu')\n",
    "net.to(device)"
   ]
  },
  {
   "cell_type": "code",
   "execution_count": 8,
   "metadata": {},
   "outputs": [
    {
     "data": {
      "text/plain": [
       "device(type='mps')"
      ]
     },
     "execution_count": 8,
     "metadata": {},
     "output_type": "execute_result"
    }
   ],
   "source": [
    "device"
   ]
  },
  {
   "cell_type": "markdown",
   "metadata": {
    "id": "RpImr_0IdUeY"
   },
   "source": [
    "We can evaluate the SIREN we instantiated using the forward function as we would do for any Pytorch module."
   ]
  },
  {
   "cell_type": "code",
   "execution_count": 9,
   "metadata": {
    "colab": {
     "base_uri": "https://localhost:8080/"
    },
    "id": "4cmwf3bEdbMk",
    "outputId": "930f2cfb-4355-4663-a614-a550f99b5cbb"
   },
   "outputs": [
    {
     "name": "stdout",
     "output_type": "stream",
     "text": [
      "result of forward SIREN evaluation=tensor([[0.1430]], device='mps:0', grad_fn=<AddBackward0>)\n"
     ]
    }
   ],
   "source": [
    "x = torch.ones(1, 1).to(device)# defines a dummy input\n",
    "y = torch.ones(1, 1).to(device)\n",
    "x.requires_grad_(True)\n",
    "\n",
    "session_input = {'x_coords': x,\n",
    "                 #'y_coords': y,\n",
    "                 'params': None}\n",
    "\n",
    "y = net(x)\n",
    "\n",
    "forward_siren_evaluation = y.data\n",
    "print(f\"result of forward SIREN evaluation={forward_siren_evaluation}\")"
   ]
  },
  {
   "cell_type": "markdown",
   "metadata": {
    "id": "tSdpdZQHbjsF"
   },
   "source": [
    "Evaluating the session also yields the output of the network. We must evaluate the session at least once (as done above) to initialize the session properly and get the backward session"
   ]
  },
  {
   "cell_type": "code",
   "execution_count": 10,
   "metadata": {
    "colab": {
     "base_uri": "https://localhost:8080/"
    },
    "id": "FQZVe8RjcOcU",
    "outputId": "43271867-cc74-435d-8f7f-1732bb4dad9d"
   },
   "outputs": [
    {
     "name": "stdout",
     "output_type": "stream",
     "text": [
      "result of forward session evaluation=tensor([[0.1430]], device='mps:0', grad_fn=<AddBackward0>)\n"
     ]
    }
   ],
   "source": [
    "integralnet_session_evaluation = integralnet_session(session_input)\n",
    "print(f\"result of forward session evaluation={integralnet_session_evaluation}\")"
   ]
  },
  {
   "cell_type": "markdown",
   "metadata": {
    "id": "_g4JShidOkS4"
   },
   "source": [
    "We can check the two evaluations (the evaluation of the integral network via forward and of the session representing the integral network) are the same"
   ]
  },
  {
   "cell_type": "code",
   "execution_count": 11,
   "metadata": {
    "colab": {
     "base_uri": "https://localhost:8080/"
    },
    "id": "VSrBokZqOnQW",
    "outputId": "bae8eb28-478e-4aac-c29d-a8c6b099b2af"
   },
   "outputs": [
    {
     "name": "stdout",
     "output_type": "stream",
     "text": [
      "Error between session and network evaluation=0.0\n"
     ]
    }
   ],
   "source": [
    "error_fn = torch.nn.MSELoss()\n",
    "print(f\"Error between session and network evaluation={error_fn(forward_siren_evaluation.squeeze(), integralnet_session_evaluation.squeeze())}\")"
   ]
  },
  {
   "cell_type": "markdown",
   "metadata": {
    "id": "y0LdCq_Aakt6"
   },
   "source": [
    "Calling the function get_backward_graph() on the session instantiates another session that represents the grad network. **(this can only be done if the network has been run once!)**\n",
    "\n"
   ]
  },
  {
   "cell_type": "code",
   "execution_count": 12,
   "metadata": {
    "colab": {
     "base_uri": "https://localhost:8080/"
    },
    "id": "3fdpGxcrZr0D",
    "outputId": "8163a197-001a-4031-be25-500ce3be80ea"
   },
   "outputs": [
    {
     "name": "stdout",
     "output_type": "stream",
     "text": [
      "Creating session: 363867815\n"
     ]
    }
   ],
   "source": [
    "gradnet_session = integralnet_session.get_backward_graph()"
   ]
  },
  {
   "cell_type": "markdown",
   "metadata": {
    "id": "WgubofKAbHBF"
   },
   "source": [
    "We can visualize the integral network we created (by visualizing its associated session)"
   ]
  },
  {
   "cell_type": "markdown",
   "metadata": {
    "id": "UxbO65_XfHmV"
   },
   "source": [
    "We can also visualize the grad network (contained in the backward session):"
   ]
  },
  {
   "cell_type": "markdown",
   "metadata": {
    "id": "4SU-FDmrQ0Zf"
   },
   "source": [
    "## Fitting the grad network"
   ]
  },
  {
   "cell_type": "markdown",
   "metadata": {
    "id": "SIgUh0NGe0YP"
   },
   "source": [
    "We choose the function we want to calculate the integral using AutoInt."
   ]
  },
  {
   "cell_type": "code",
   "execution_count": 14,
   "metadata": {
    "id": "iOYLeR2FRnjP"
   },
   "outputs": [],
   "source": [
    "func_to_fit = integral_xcosx_fn"
   ]
  },
  {
   "cell_type": "markdown",
   "metadata": {
    "id": "yQC6pm8Te5LP"
   },
   "source": [
    "We create the dataloader that will create the pairs of datapoints of the form (input coordinate, output of the function to integrate) for us."
   ]
  },
  {
   "cell_type": "code",
   "execution_count": 15,
   "metadata": {
    "id": "grw61O08ezX4"
   },
   "outputs": [],
   "source": [
    "dataset = Implicit1DWrapper([-1,10], fn=func_to_fit, \\\n",
    "                            sampling_density=1000, train_every=1)\n",
    "dataloader = DataLoader(dataset,shuffle=True, batch_size=1, \\\n",
    "                        pin_memory=True, num_workers=0)\n",
    "\n",
    "def dict2cuda(d):\n",
    "    tmp = {}\n",
    "    for key, value in d.items():\n",
    "        if isinstance(value, torch.Tensor):\n",
    "            tmp.update({key: value.to(device)})\n",
    "        else:\n",
    "            tmp.update({key: value})\n",
    "    return tmp"
   ]
  },
  {
   "cell_type": "markdown",
   "metadata": {
    "id": "cWE59YMnfC2e"
   },
   "source": [
    "A minimal example of a training loop to fit the function:"
   ]
  },
  {
   "cell_type": "code",
   "execution_count": 16,
   "metadata": {
    "colab": {
     "base_uri": "https://localhost:8080/"
    },
    "id": "OEEfB9NRQ7xF",
    "outputId": "1ec87bfc-95d4-4c58-add9-da0a6b2979ec"
   },
   "outputs": [
    {
     "name": "stdout",
     "output_type": "stream",
     "text": [
      "0/1000: loss=13.464601516723633\n",
      "50/1000: loss=9.444289207458496\n",
      "100/1000: loss=8.151569366455078\n",
      "150/1000: loss=7.22517728805542\n",
      "200/1000: loss=6.429408073425293\n",
      "250/1000: loss=5.736556053161621\n",
      "300/1000: loss=5.13452672958374\n",
      "350/1000: loss=4.605722427368164\n",
      "400/1000: loss=4.130710124969482\n",
      "450/1000: loss=3.702711820602417\n",
      "500/1000: loss=3.3182690143585205\n",
      "550/1000: loss=2.9738614559173584\n",
      "600/1000: loss=2.666300058364868\n",
      "650/1000: loss=2.392538547515869\n",
      "700/1000: loss=2.1512763500213623\n",
      "750/1000: loss=1.9374573230743408\n",
      "800/1000: loss=1.7503747940063477\n",
      "850/1000: loss=1.587739109992981\n",
      "900/1000: loss=1.4425650835037231\n",
      "950/1000: loss=1.3190598487854004\n"
     ]
    }
   ],
   "source": [
    "epochs = 1000\n",
    "\n",
    "loss_fn = torch.nn.MSELoss()\n",
    "optimizer = torch.optim.Adam(lr=5e-5, params=net.parameters(),amsgrad=True)\n",
    "\n",
    "print_loss_every = 50\n",
    "losses = []\n",
    "\n",
    "for e in range(epochs):\n",
    "  for step, (input, gt) in enumerate(dataloader):\n",
    "      input = dict2cuda(input)\n",
    "      gt = dict2cuda(gt)\n",
    "      \n",
    "      gradnet_output = gradnet_session.compute_graph_fast2({'x_coords': input['coords'],\n",
    "                                                            'params': None})\n",
    "      loss = loss_fn(gradnet_output,gt['func']).mean()\n",
    "\n",
    "      optimizer.zero_grad()\n",
    "      loss.backward()\n",
    "      losses.append(loss.item())\n",
    "      optimizer.step()\n",
    "    \n",
    "  if not e % print_loss_every:\n",
    "      print(f\"{e}/{epochs}: loss={loss}\")"
   ]
  },
  {
   "cell_type": "code",
   "execution_count": 24,
   "metadata": {},
   "outputs": [
    {
     "data": {
      "text/plain": [
       "Text(0.5, 1.0, 'Loss vs Epoch for SIREN')"
      ]
     },
     "execution_count": 24,
     "metadata": {},
     "output_type": "execute_result"
    },
    {
     "data": {
      "image/png": "[encoded data removed]",
      "text/plain": [
       "<Figure size 640x480 with 1 Axes>"
      ]
     },
     "metadata": {},
     "output_type": "display_data"
    }
   ],
   "source": [
    "plt.plot(np.arange(0,1000), losses)\n",
    "plt.xlabel('Epoch')\n",
    "plt.ylabel('Loss')\n",
    "plt.title('Loss vs Epoch for SIREN')"
   ]
  },
  {
   "cell_type": "code",
   "execution_count": 21,
   "metadata": {
    "colab": {
     "base_uri": "https://localhost:8080/",
     "height": 282
    },
    "id": "9MCwLg1oZ3o2",
    "outputId": "f57076a2-6b3b-40d3-b9ea-9f13b7cccb9b"
   },
   "outputs": [
    {
     "data": {
      "text/plain": [
       "<matplotlib.legend.Legend at 0x3050be9b0>"
      ]
     },
     "execution_count": 21,
     "metadata": {},
     "output_type": "execute_result"
    },
    {
     "data": {
      "image/png": "[encoded data removed]",
      "text/plain": [
       "<Figure size 640x480 with 1 Axes>"
      ]
     },
     "metadata": {},
     "output_type": "display_data"
    }
   ],
   "source": [
    "x_coords = torch.linspace(-1,10,1000)[:,None].to(device)\n",
    "grad_vals = func_to_fit(x_coords).cpu()\n",
    "fitted_grad_vals = gradnet_session.compute_graph_fast2({'x_coords': x_coords,\n",
    "                                                       'params': None}).cpu()\n",
    "integral_vals = integralnet_session.compute_graph_fast2({'x_coords': x_coords,\n",
    "                                                        'params': None}).cpu()\n",
    "\n",
    "x_coords = x_coords.cpu()\n",
    "plt.plot(x_coords,grad_vals,'-k', label='Function to integrate')\n",
    "plt.plot(x_coords,fitted_grad_vals.detach(),'.r', label='Grad network')\n",
    "plt.plot(x_coords,integral_vals.detach(),'-b', label='Integral network')\n",
    "plt.legend(bbox_to_anchor=(1.05, 1.0), loc='upper left')\n"
   ]
  },
  {
   "cell_type": "code",
   "execution_count": null,
   "metadata": {},
   "outputs": [],
   "source": []
  },
  {
   "cell_type": "code",
   "execution_count": null,
   "metadata": {},
   "outputs": [],
   "source": []
  }
 ],
 "metadata": {
  "accelerator": "GPU",
  "colab": {
   "collapsed_sections": [
    "gCSbelzxRej2",
    "Y4fpzrWxRluK",
    "-ounsyPROmJe"
   ],
   "name": "autoint_example.ipynb",
   "provenance": [],
   "toc_visible": true
  },
  "kernelspec": {
   "display_name": "autoint",
   "language": "python",
   "name": "python3"
  },
  "language_info": {
   "codemirror_mode": {
    "name": "ipython",
    "version": 3
   },
   "file_extension": ".py",
   "mimetype": "text/x-python",
   "name": "python",
   "nbconvert_exporter": "python",
   "pygments_lexer": "ipython3",
   "version": "3.10.16"
  }
 },
 "nbformat": 4,
 "nbformat_minor": 1
}
