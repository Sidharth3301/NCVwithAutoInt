{
 "cells": [
  {
   "cell_type": "markdown",
   "id": "aadea282",
   "metadata": {},
   "source": [
    "# AutoInt with Neural Control Variates"
   ]
  },
  {
   "cell_type": "markdown",
   "id": "b0141f6a",
   "metadata": {},
   "source": [
    "\n",
    "This notebook extends the original AutoInt example to implement the Neural Control Variates (NCV) framework for 1D integration. \n",
    "We use a control variate \\( g_\theta(x) \\) to reduce the variance of Monte Carlo integration.\n",
    "\n",
    "The steps include:\n",
    "1. Defining the control variate network \\( g_\theta(x) \\).\n",
    "2. Modifying the training loop to minimize the variance \\( \\mathbb{E}[(f(x) - g_\theta(x))^2] \\).\n",
    "3. Using AutoInt to compute the integral of \\( g_\theta(x) \\).\n",
    "4. Evaluating the integral with reduced variance.\n"
   ]
  },
  {
   "cell_type": "markdown",
   "id": "2bddc116",
   "metadata": {},
   "source": [
    "## Imports"
   ]
  },
  {
   "cell_type": "code",
   "execution_count": null,
   "id": "675456f0",
   "metadata": {},
   "outputs": [],
   "source": [
    "\n",
    "import torch\n",
    "import matplotlib.pyplot as plt\n",
    "import numpy as np\n",
    "from torch.utils.data import DataLoader\n",
    "\n",
    "from autoint.session import Session\n",
    "import autoint.autograd_modules as autoint\n"
   ]
  },
  {
   "cell_type": "markdown",
   "id": "8584c92c",
   "metadata": {},
   "source": [
    "## Function Definitions"
   ]
  },
  {
   "cell_type": "code",
   "execution_count": null,
   "id": "e76e0f7c",
   "metadata": {},
   "outputs": [],
   "source": [
    "\n",
    "# Define the target function to integrate\n",
    "def target_fn(x):\n",
    "    return torch.cos(5 * x) + torch.sin(2 * x)\n",
    "\n",
    "# Dataset class to sample coordinates and function values\n",
    "class Implicit1DWrapper(torch.utils.data.Dataset):\n",
    "    def __init__(self, range_, fn, sampling_density=1000):\n",
    "        self.range = torch.linspace(range_[0], range_[1], sampling_density)\n",
    "        self.fn = fn\n",
    "\n",
    "    def __len__(self):\n",
    "        return len(self.range)\n",
    "\n",
    "    def __getitem__(self, idx):\n",
    "        x = self.range[idx].unsqueeze(0)\n",
    "        y = self.fn(x)\n",
    "        return x, y\n"
   ]
  },
  {
   "cell_type": "markdown",
   "id": "7465243b",
   "metadata": {},
   "source": [
    "## Define Networks"
   ]
  },
  {
   "cell_type": "code",
   "execution_count": null,
   "id": "0d12286b",
   "metadata": {},
   "outputs": [],
   "source": [
    "\n",
    "# Define the control variate network (simple MLP)\n",
    "class ControlVariateNet(torch.nn.Module):\n",
    "    def __init__(self, input_dim=1, hidden_dim=32, output_dim=1):\n",
    "        super().__init__()\n",
    "        self.net = torch.nn.Sequential(\n",
    "            torch.nn.Linear(input_dim, hidden_dim),\n",
    "            torch.nn.ReLU(),\n",
    "            torch.nn.Linear(hidden_dim, hidden_dim),\n",
    "            torch.nn.ReLU(),\n",
    "            torch.nn.Linear(hidden_dim, output_dim)\n",
    "        )\n",
    "\n",
    "    def forward(self, x):\n",
    "        return self.net(x)\n",
    "\n",
    "# Define the integral network (SIREN from AutoInt)\n",
    "class SIREN(autoint.MetaModule):\n",
    "    def __init__(self, session):\n",
    "        super().__init__()\n",
    "        self.input = autoint.Input(torch.Tensor(1, 1), id='x_coords')\n",
    "        self.net = []\n",
    "        self.net.append(autoint.Linear(1, 32))\n",
    "        self.net.append(autoint.SinActivation())\n",
    "        self.net.append(autoint.Linear(32, 1))\n",
    "        session.add_modules(self, self.net)\n"
   ]
  },
  {
   "cell_type": "markdown",
   "id": "3109bcd8",
   "metadata": {},
   "source": [
    "## Initialize Networks and Session"
   ]
  },
  {
   "cell_type": "code",
   "execution_count": null,
   "id": "426509f7",
   "metadata": {},
   "outputs": [],
   "source": [
    "\n",
    "# Create AutoInt session and networks\n",
    "session = Session()\n",
    "integral_net = SIREN(session)\n",
    "control_variate_net = ControlVariateNet()\n",
    "\n",
    "# Move networks to GPU if available\n",
    "device = torch.device(\"mps\" if  torch.backends.mps.is_available() else \"cpu\")\n",
    "integral_net.to(device)\n",
    "control_variate_net.to(device)\n"
   ]
  },
  {
   "cell_type": "markdown",
   "id": "2cfe73d6",
   "metadata": {},
   "source": [
    "## Training the Networks"
   ]
  },
  {
   "cell_type": "code",
   "execution_count": null,
   "id": "979f0624",
   "metadata": {},
   "outputs": [],
   "source": [
    "\n",
    "# Create dataset and dataloader\n",
    "dataset = Implicit1DWrapper(range_=[-1, 10], fn=target_fn)\n",
    "dataloader = DataLoader(dataset, shuffle=True, batch_size=32)\n",
    "\n",
    "# Optimizers and loss function\n",
    "optimizer = torch.optim.Adam(list(integral_net.parameters()) + list(control_variate_net.parameters()), lr=1e-4)\n",
    "loss_fn = torch.nn.MSELoss()\n",
    "\n",
    "# Training loop\n",
    "epochs = 1000\n",
    "losses = []\n",
    "\n",
    "for epoch in range(epochs):\n",
    "    epoch_loss = 0\n",
    "    for x, y in dataloader:\n",
    "        x, y = x.to(device), y.to(device)\n",
    "        \n",
    "        # Compute control variate\n",
    "        g = control_variate_net(x)\n",
    "        \n",
    "        # Compute the loss\n",
    "        loss = loss_fn(y, g)\n",
    "        epoch_loss += loss.item()\n",
    "        \n",
    "        # Backpropagation and optimization\n",
    "        optimizer.zero_grad()\n",
    "        loss.backward()\n",
    "        optimizer.step()\n",
    "    \n",
    "    losses.append(epoch_loss / len(dataloader))\n",
    "    if epoch % 50 == 0:\n",
    "        print(f\"Epoch {epoch}/{epochs}, Loss: {epoch_loss:.4f}\")\n",
    "\n",
    "# Plot the training loss\n",
    "plt.plot(losses)\n",
    "plt.xlabel(\"Epoch\")\n",
    "plt.ylabel(\"Loss\")\n",
    "plt.title(\"Training Loss for NCV\")\n",
    "plt.show()\n"
   ]
  },
  {
   "cell_type": "markdown",
   "id": "96008d37",
   "metadata": {},
   "source": [
    "## Evaluate the Integral"
   ]
  },
  {
   "cell_type": "code",
   "execution_count": null,
   "id": "358c048b",
   "metadata": {},
   "outputs": [],
   "source": [
    "\n",
    "# Evaluate the integral using the control variate\n",
    "x_coords = torch.linspace(-1, 10, 100).unsqueeze(1).to(device)\n",
    "true_vals = target_fn(x_coords).cpu().detach().numpy()\n",
    "control_vals = control_variate_net(x_coords).cpu().detach().numpy()\n",
    "\n",
    "# Compute the integral using AutoInt for the control variate\n",
    "session_input = {'x_coords': x_coords}\n",
    "integral_vals = session.compute_graph(session_input).detach().cpu().numpy()\n",
    "\n",
    "# Visualize results\n",
    "plt.plot(x_coords.cpu().numpy(), true_vals, label=\"Target Function\")\n",
    "plt.plot(x_coords.cpu().numpy(), control_vals, label=\"Control Variate\")\n",
    "plt.legend()\n",
    "plt.show()\n"
   ]
  }
 ],
 "metadata": {
  "kernelspec": {
   "display_name": "autoint",
   "language": "python",
   "name": "python3"
  },
  "language_info": {
   "name": "python",
   "version": "3.10.16"
  }
 },
 "nbformat": 4,
 "nbformat_minor": 5
}
