{
 "cells": [
  {
   "cell_type": "code",
   "execution_count": 1,
   "metadata": {},
   "outputs": [],
   "source": [
    "\n",
    "import torch\n",
    "import matplotlib.pyplot as plt\n",
    "import numpy as np\n",
    "from functools import partial\n",
    "from torch.utils.data import DataLoader\n",
    "from torchmeta.modules import MetaModule\n",
    "import sys\n",
    "import os\n",
    "    \n",
    "from autoint.session import Session\n",
    "import autoint.autograd_modules as autoint\n"
   ]
  },
  {
   "cell_type": "code",
   "execution_count": 2,
   "metadata": {},
   "outputs": [],
   "source": [
    "import numpy as np\n",
    "from prettytable import PrettyTable\n",
    "from scipy.integrate import quad\n",
    "import math \n",
    "def cv_monte_carlo_integration(f, cv_fn, g_integral, domain, n_samples, device, chunk_size=1000):\n",
    "    \"\"\"\n",
    "    Monte Carlo integration with control variates.\n",
    "\n",
    "    Args:\n",
    "        f (function): The target function to integrate.\n",
    "        g (function): Control variate function, closely resembling f.\n",
    "        g_integral (float): Analytical integral of the control variate g over the domain.\n",
    "        domain (tuple): The integration domain (start, end).\n",
    "        n_samples (int): Number of samples.\n",
    "\n",
    "    Returns:\n",
    "        float: Estimated integral of f.\n",
    "    \"\"\"\n",
    "    start, end = domain\n",
    "    # Generate random samples in the domain\n",
    "    samples = torch.rand(n_samples) * (end - start) + start\n",
    "    # Compute the function values\n",
    "    f_values = f(samples)\n",
    "    g_values_list = []\n",
    "    with torch.no_grad():\n",
    "        # Split the 'samples' tensor into smaller chunks\n",
    "        for i in range(0, n_samples, chunk_size):\n",
    "            batch = samples[i : i + chunk_size]\n",
    "            # Pass shape [chunk_size, 1] to the network\n",
    "            batch = batch.view(-1, 1).to(device)\n",
    "            g_output = cv_fn.compute_graph_fast2({'x_coords': batch, 'params': None})\n",
    "            g_values_list.append(g_output.detach().cpu())\n",
    "    # with torch.no_grad():\n",
    "    #     g_values =  cv_fn.compute_graph_fast2({'x_coords': samples.to(device).view(-1,1), 'params': None})\n",
    "    g_values = torch.cat(g_values_list, dim=0) \n",
    "    g_values= g_values.detach().cpu()\n",
    "    residual = f_values - g_values.squeeze()\n",
    "    # Monte Carlo estimate with control variates\n",
    "    integral_estimate = g_integral + (end - start) * torch.mean(residual)\n",
    "    return integral_estimate, torch.std(residual) * (end-start) / math.sqrt(n_samples)\n",
    "\n",
    "def display_integration_results(func, domain, cv_fn, g_integral, sample_sizes, device):\n",
    "    # Numerical quadrature integration\n",
    "    quad_result, _ = quad(integral_xcosx_fn_numpy, domain[0], domain[1])\n",
    "\n",
    "    # Create a PrettyTable\n",
    "    table = PrettyTable()\n",
    "    table.field_names = [\"Sample Size\", \"Integration Result (mean ± std.dev)\"]\n",
    "\n",
    "    # Compute and add results for different sample sizes\n",
    "    for n_samples in sample_sizes:\n",
    "        mc_mean, mc_std = cv_monte_carlo_integration(func,cv_fn,g_integral, domain, n_samples, device)\n",
    "        table.add_row([n_samples, f\"{mc_mean.item():.4f} ± {mc_std.item():.4f}\"])\n",
    "\n",
    "    # Add the quadrature result to the table\n",
    "    table.add_row([\"Scipy Quad\", f\"{quad_result:.4f} ± 0.0000\"])\n",
    "\n",
    "    # Print the table\n",
    "    print(table)\n",
    "\n",
    "def cos_fn(coords):\n",
    "  return torch.cos(10*coords)\n",
    "\n",
    "def polynomial_fn(coords):\n",
    "    return .1*coords**5 - .2*coords**4 + .2*coords**3 - .4*coords**2 + .1*coords\n",
    "\n",
    "def sinc_fn(coords):\n",
    "    coords[coords == 0] += 1\n",
    "    return torch.div(torch.sin(20*coords), 20*coords)\n",
    "\n",
    "def linear_fn(coords):\n",
    "    return 1.0 * coords\n",
    "\n",
    "def xcosx_fn(coords):\n",
    "    return coords * torch.cos(coords)\n",
    "\n",
    "def integral_xcosx_fn(coords):\n",
    "    return coords*torch.sin(coords) + torch.cos(coords)\n",
    "\n",
    "def integral_xcosx_fn_numpy(coords):\n",
    "    return coords*np.sin(coords) + np.cos(coords)\n",
    "\n",
    "\n"
   ]
  },
  {
   "cell_type": "markdown",
   "metadata": {},
   "source": [
    "boilerplate"
   ]
  },
  {
   "cell_type": "code",
   "execution_count": 3,
   "metadata": {},
   "outputs": [],
   "source": [
    "class Implicit1DWrapper(torch.utils.data.Dataset):\n",
    "    def __init__(self, range, fn, grad_fn=None, integral_fn=None, sampling_density=100,\n",
    "                 train_every=10):\n",
    "\n",
    "        avg = (range[0] + range[1]) / 2\n",
    "\n",
    "        coords = self.get_samples(range, sampling_density)\n",
    "        self.fn_vals = fn(coords)\n",
    "        self.train_idx = torch.arange(0, coords.shape[0], train_every).float()\n",
    "\n",
    "        #coords = (coords - avg) / (range[1] - avg)\n",
    "        self.grid = coords\n",
    "        self.grid.requires_grad_(True)\n",
    "        #self.val_grid = val_coords\n",
    "\n",
    "        if grad_fn is None:\n",
    "            grid_gt_with_grad = coords\n",
    "            grid_gt_with_grad.requires_grad_(True)\n",
    "            fn_vals_with_grad = fn((grid_gt_with_grad * (range[1] - avg)) + avg)\n",
    "            gt_gradient = torch.autograd.grad(fn_vals_with_grad, [grid_gt_with_grad],\n",
    "                                              grad_outputs=torch.ones_like(grid_gt_with_grad), create_graph=True,\n",
    "                                              retain_graph=True)[0]\n",
    "            try:\n",
    "                gt_hessian = torch.autograd.grad(gt_gradient, [grid_gt_with_grad],\n",
    "                                                 grad_outputs=torch.ones_like(gt_gradient), retain_graph=True)[0]\n",
    "            except Exception as e:\n",
    "                gt_hessian = torch.zeros_like(gt_gradient)\n",
    "\n",
    "        else:\n",
    "            gt_gradient = grad_fn(coords) \n",
    "            gt_hessian = torch.zeros_like(gt_gradient)\n",
    "\n",
    "        self.integral_fn = integral_fn\n",
    "        if integral_fn:\n",
    "            self.integral_vals = integral_fn(coords)\n",
    "\n",
    "        self.gt_gradient = gt_gradient.detach()\n",
    "        self.gt_hessian = gt_hessian.detach()\n",
    "\n",
    "    def get_samples(self, range, sampling_density):\n",
    "        num = int(range[1] - range[0])*sampling_density\n",
    "        avg = (range[0] + range[1]) / 2\n",
    "        coords = np.linspace(start=range[0], stop=range[1], num=num)\n",
    "        coords.astype(np.float32)\n",
    "        coords = torch.Tensor(coords).view(-1, 1)\n",
    "        # coords = torch.rand(sampling_density).view(-1, 1) * (range[1] - range[0]) + range[0]\n",
    "        return coords\n",
    "\n",
    "    def get_num_samples(self):\n",
    "        return self.grid.shape[0]\n",
    "\n",
    "    def __len__(self):\n",
    "        return 1\n",
    "\n",
    "    def __getitem__(self, idx):\n",
    "        if self.integral_fn is not None:\n",
    "            return {'coords':self.grid}, {'integral_func': self.integral_vals, 'func':self.fn_vals,\n",
    "                    'gradients':self.gt_gradient, 'val_func': self.val_fn_vals,\n",
    "                    'val_coords': self.val_grid, 'hessian':self.gt_hessian}\n",
    "        else:\n",
    "            return {'idx': self.train_idx, 'coords':self.grid}, \\\n",
    "                   {'func': self.fn_vals, 'gradients':self.gt_gradient,\n",
    "                    'coords': self.grid}"
   ]
  },
  {
   "cell_type": "markdown",
   "metadata": {},
   "source": [
    "define cv network"
   ]
  },
  {
   "cell_type": "code",
   "execution_count": 4,
   "metadata": {},
   "outputs": [],
   "source": [
    "class SIREN(MetaModule):\n",
    "    def __init__(self, session):\n",
    "        super().__init__()\n",
    "\n",
    "        self.net = [] \n",
    "        self.input = autoint.Input(torch.Tensor(1, 1), id='x_coords')\n",
    "\n",
    "        self.net.append(autoint.Linear(1, 128))\n",
    "        self.net.append(autoint.Sine())\n",
    "        self.net.append(autoint.Linear(128, 128))\n",
    "        self.net.append(autoint.Sine())\n",
    "        self.net.append(autoint.Linear(128, 128))\n",
    "        self.net.append(autoint.Sine())\n",
    "        self.net.append(autoint.Linear(128, 128))\n",
    "        self.net.append(autoint.Sine())\n",
    "        self.net.append(autoint.Linear(128, 1))\n",
    "\n",
    "        self.net = torch.nn.Sequential(*self.net)\n",
    "        self.session = session\n",
    "\n",
    "    def input_init(self, input_tensor, m):\n",
    "        with torch.no_grad():\n",
    "            if isinstance(m, autoint.Input):\n",
    "                m.set_value(input_tensor, grad=True)\n",
    "\n",
    "    def constant_init(self, input_tensor, m):\n",
    "        with torch.no_grad():\n",
    "            if isinstance(m, autoint.Constant):\n",
    "                m.set_value(input_tensor, grad=False)\n",
    "    \n",
    "    def forward(self, x):\n",
    "        with torch.no_grad():\n",
    "            input_init_func = partial(self.input_init, x[:, 0, None])\n",
    "            self.input.apply(input_init_func)\n",
    "\n",
    "        input_ctx = autoint.Value(x, self.session)\n",
    "\n",
    "        out1 = self.input(input_ctx)\n",
    "        return self.net(out1)"
   ]
  },
  {
   "cell_type": "code",
   "execution_count": 5,
   "metadata": {},
   "outputs": [
    {
     "name": "stdout",
     "output_type": "stream",
     "text": [
      "Creating session: 358588567\n"
     ]
    }
   ],
   "source": [
    "cv_integral = Session()"
   ]
  },
  {
   "cell_type": "code",
   "execution_count": 6,
   "metadata": {},
   "outputs": [
    {
     "data": {
      "text/plain": [
       "SIREN(\n",
       "  (input): Input()\n",
       "  (net): Sequential(\n",
       "    (0): Linear()\n",
       "    (1): Sine()\n",
       "    (2): Linear()\n",
       "    (3): Sine()\n",
       "    (4): Linear()\n",
       "    (5): Sine()\n",
       "    (6): Linear()\n",
       "    (7): Sine()\n",
       "    (8): Linear()\n",
       "  )\n",
       "  (session): Session()\n",
       ")"
      ]
     },
     "execution_count": 6,
     "metadata": {},
     "output_type": "execute_result"
    }
   ],
   "source": [
    "net = SIREN(cv_integral)\n",
    " #add metal to the mix\n",
    "device = torch.device('mps' if torch.backends.mps.is_available() else 'cpu')\n",
    "net.to(device)"
   ]
  },
  {
   "cell_type": "code",
   "execution_count": 7,
   "metadata": {},
   "outputs": [
    {
     "name": "stdout",
     "output_type": "stream",
     "text": [
      "result of forward SIREN evaluation=tensor([[-0.0380]], device='mps:0', grad_fn=<AddBackward0>)\n"
     ]
    }
   ],
   "source": [
    "x = torch.ones(1, 1).to(device)# defines a dummy input\n",
    "y = torch.ones(1, 1).to(device)\n",
    "x.requires_grad_(True)\n",
    "\n",
    "session_input = {'x_coords': x,\n",
    "                 #'y_coords': y,\n",
    "                 'params': None}\n",
    "\n",
    "y = net(x)\n",
    "\n",
    "forward_siren_evaluation = y.data\n",
    "print(f\"result of forward SIREN evaluation={forward_siren_evaluation}\")"
   ]
  },
  {
   "cell_type": "code",
   "execution_count": 8,
   "metadata": {},
   "outputs": [
    {
     "name": "stdout",
     "output_type": "stream",
     "text": [
      "Creating session: 358588918\n"
     ]
    }
   ],
   "source": [
    "cv_fn = cv_integral.get_backward_graph()"
   ]
  },
  {
   "cell_type": "code",
   "execution_count": 9,
   "metadata": {},
   "outputs": [],
   "source": [
    "func_to_fit = integral_xcosx_fn"
   ]
  },
  {
   "cell_type": "code",
   "execution_count": 10,
   "metadata": {},
   "outputs": [],
   "source": [
    "class loss(torch.nn.Module):\n",
    "    def __init__(self, U, L):\n",
    "        super(loss, self).__init__()\n",
    "        self.error_fn = torch.nn.MSELoss()\n",
    "        self.U = U\n",
    "        self.L = L\n",
    "        # self.func_to_fit = func_to_fit\n",
    "        self.alpha =0.99\n",
    "\n",
    "    def l_diff(self, gradnet_outputs, gt):\n",
    "        return 2*self.error_fn( gradnet_outputs, gt).mean() #L_diff for uniform sampling : the 2 comes from the denominator p_\\omega^2\n",
    "    \n",
    "    def l_int(self, integralnet_outputs, gt):\n",
    "        a,b = integralnet_outputs[0], integralnet_outputs[1]\n",
    "        integral = a-b\n",
    "        term1 = gt*(self.U-self.L)\n",
    "        return self.error_fn(integral, term1).mean()\n",
    "        \n",
    "    \n",
    "    def forward(self, integralnet_outputs, gradnet_outputs, gt):\n",
    "        return self.l_diff(gradnet_outputs=gradnet_outputs, gt=gt)+self.l_int(integralnet_outputs=integralnet_outputs, gt=gt)"
   ]
  },
  {
   "cell_type": "markdown",
   "metadata": {},
   "source": [
    "Training Loop\n"
   ]
  },
  {
   "cell_type": "code",
   "execution_count": 11,
   "metadata": {},
   "outputs": [],
   "source": [
    "U = 1 # upper bound\n",
    "L = -1 #lower bound\n",
    "\n",
    "\n",
    "dataset = Implicit1DWrapper([L, U], fn=func_to_fit, \\\n",
    "                            sampling_density=1000, train_every=1)\n",
    "\n",
    "dataloader = DataLoader(dataset,shuffle=True, batch_size=1, \\\n",
    "                        pin_memory=True, num_workers=0)\n",
    "\n",
    "\n",
    "\n",
    "def dict2cuda(d):\n",
    "    tmp = {}\n",
    "    for key, value in d.items():\n",
    "        if isinstance(value, torch.Tensor):\n",
    "            tmp.update({key: value.to(device)})\n",
    "        else:\n",
    "            tmp.update({key: value})\n",
    "    return tmp"
   ]
  },
  {
   "cell_type": "code",
   "execution_count": 12,
   "metadata": {},
   "outputs": [],
   "source": [
    "bounds_tensor = torch.tensor([[L], [U]], dtype=torch.float32)\n",
    "\n",
    "# If you're using CUDA:\n",
    "bounds_tensor = bounds_tensor.to(device)"
   ]
  },
  {
   "cell_type": "code",
   "execution_count": 13,
   "metadata": {},
   "outputs": [
    {
     "name": "stderr",
     "output_type": "stream",
     "text": [
      "/Users/sekiro/miniconda3/envs/autoint/lib/python3.10/site-packages/torch/nn/modules/loss.py:535: UserWarning: Using a target size (torch.Size([1, 20000, 1])) that is different to the input size (torch.Size([1])). This will likely lead to incorrect results due to broadcasting. Please ensure they have the same size.\n",
      "  return F.mse_loss(input, target, reduction=self.reduction)\n"
     ]
    },
    {
     "name": "stdout",
     "output_type": "stream",
     "text": [
      "0/2000: loss=5884.02490234375\n",
      "50/2000: loss=5864.51318359375\n",
      "100/2000: loss=5854.21142578125\n",
      "150/2000: loss=5848.0185546875\n",
      "200/2000: loss=5844.04443359375\n",
      "250/2000: loss=5840.79052734375\n",
      "300/2000: loss=5837.94140625\n",
      "350/2000: loss=5835.34130859375\n",
      "400/2000: loss=5832.8876953125\n",
      "450/2000: loss=5830.53857421875\n",
      "500/2000: loss=5828.28466796875\n",
      "550/2000: loss=5826.1171875\n",
      "600/2000: loss=5824.0126953125\n",
      "650/2000: loss=5821.9638671875\n",
      "700/2000: loss=5819.97119140625\n",
      "750/2000: loss=5818.025390625\n",
      "800/2000: loss=5816.11962890625\n",
      "850/2000: loss=5814.24755859375\n",
      "900/2000: loss=5812.40576171875\n",
      "950/2000: loss=5810.59228515625\n",
      "1000/2000: loss=5808.8056640625\n",
      "1050/2000: loss=5807.04443359375\n",
      "1100/2000: loss=5805.3056640625\n",
      "1150/2000: loss=5803.5888671875\n",
      "1200/2000: loss=5801.89208984375\n",
      "1250/2000: loss=5800.21337890625\n",
      "1300/2000: loss=5798.55419921875\n",
      "1350/2000: loss=5796.9130859375\n",
      "1400/2000: loss=5795.2890625\n",
      "1450/2000: loss=5793.68310546875\n",
      "1500/2000: loss=5792.09326171875\n",
      "1550/2000: loss=5790.52197265625\n",
      "1600/2000: loss=5788.9658203125\n",
      "1650/2000: loss=5787.4267578125\n",
      "1700/2000: loss=5785.90283203125\n",
      "1750/2000: loss=5784.39501953125\n",
      "1800/2000: loss=5782.90234375\n",
      "1850/2000: loss=5781.423828125\n",
      "1900/2000: loss=5779.95947265625\n",
      "1950/2000: loss=5778.51025390625\n"
     ]
    }
   ],
   "source": [
    "epochs = 2000\n",
    "\n",
    "loss_fn = loss(U, L)\n",
    "optimizer = torch.optim.Adam(lr=5e-6, params=net.parameters(),amsgrad=True)\n",
    "\n",
    "print_loss_every = 50\n",
    "losses = []\n",
    "\n",
    "\n",
    "for e in range(epochs):\n",
    "  for step, (input, gt) in enumerate(dataloader):\n",
    "      input = dict2cuda(input)\n",
    "      gt = dict2cuda(gt)\n",
    "      \n",
    "      gradnet_output = cv_fn.compute_graph_fast2({'x_coords': input['coords'],\n",
    "                                                            'params': None})\n",
    "      integralnet_output = cv_integral.compute_graph_fast2({'x_coords': bounds_tensor ,'params': None})\n",
    "      loss = loss_fn(integralnet_output, gradnet_output, gt['func'])\n",
    "      \n",
    "      optimizer.zero_grad()\n",
    "      loss.backward()\n",
    "      losses.append(loss.item())\n",
    "      optimizer.step()\n",
    "    \n",
    "  if not e % print_loss_every:\n",
    "      print(f\"{e}/{epochs}: loss={loss}\")"
   ]
  },
  {
   "cell_type": "code",
   "execution_count": 14,
   "metadata": {},
   "outputs": [
    {
     "data": {
      "text/plain": [
       "Text(0.5, 1.0, 'Loss vs Epoch for SIREN')"
      ]
     },
     "execution_count": 14,
     "metadata": {},
     "output_type": "execute_result"
    },
    {
     "data": {
      "image/png": "[encoded data removed]",
      "text/plain": [
       "<Figure size 640x480 with 1 Axes>"
      ]
     },
     "metadata": {},
     "output_type": "display_data"
    }
   ],
   "source": [
    "plt.plot(np.arange(0,epochs), losses)\n",
    "plt.xlabel('Epoch')\n",
    "plt.ylabel('Loss')\n",
    "plt.title('Loss vs Epoch for SIREN')"
   ]
  },
  {
   "cell_type": "code",
   "execution_count": 15,
   "metadata": {},
   "outputs": [
    {
     "data": {
      "text/plain": [
       "Text(0.5, 1.0, 'NCV+AD siren, L_diff, complete sampling')"
      ]
     },
     "execution_count": 15,
     "metadata": {},
     "output_type": "execute_result"
    },
    {
     "data": {
      "image/png": "[encoded data removed]",
      "text/plain": [
       "<Figure size 640x480 with 1 Axes>"
      ]
     },
     "metadata": {},
     "output_type": "display_data"
    }
   ],
   "source": [
    "x_coords = torch.linspace(L,U,1000)[:,None].to(device)\n",
    "grad_vals = func_to_fit(x_coords).cpu()\n",
    "fitted_grad_vals = cv_fn.compute_graph_fast2({'x_coords': x_coords,\n",
    "                                                       'params': None}).cpu()\n",
    "integral_vals = cv_integral.compute_graph_fast2({'x_coords': x_coords,\n",
    "                                                        'params': None}).cpu()\n",
    "\n",
    "x_coords = x_coords.cpu()\n",
    "plt.plot(x_coords,grad_vals,'-k', label='Function to integrate')\n",
    "plt.plot(x_coords,fitted_grad_vals.detach(),'.r', label='Grad network')\n",
    "# #remove outliers\n",
    "# fitted_grad_vals[abs(fitted_grad_vals)>20]=0\n",
    "# plt.plot(x_coords,fitted_grad_vals.detach(),'.r', label='Grad network')\n",
    "\n",
    "# plt.plot(x_coords,integral_vals.detach(),'-b', label='Integral network')\n",
    "# plt.plot(x_coords,grad_vals-fitted_grad_vals.detach(),'-g', label='Error grad')\n",
    "plt.legend(bbox_to_anchor=(1.05, 1.0), loc='upper left')\n",
    "plt.title('NCV+AD siren, L_diff, complete sampling')\n"
   ]
  },
  {
   "cell_type": "code",
   "execution_count": 16,
   "metadata": {},
   "outputs": [
    {
     "name": "stdout",
     "output_type": "stream",
     "text": [
      "+-------------+-------------------------------------+\n",
      "| Sample Size | Integration Result (mean ± std.dev) |\n",
      "+-------------+-------------------------------------+\n",
      "|     100     |           11.2512 ± 4.2506          |\n",
      "|     1000    |           15.9587 ± 1.5805          |\n",
      "|    10000    |           15.1990 ± 0.4995          |\n",
      "|    100000   |           14.5912 ± 0.1579          |\n",
      "|  Scipy Quad |           14.6053 ± 0.0000          |\n",
      "+-------------+-------------------------------------+\n"
     ]
    }
   ],
   "source": [
    "integralnet_output = net(bounds_tensor).data\n",
    "g_integral =  (integralnet_output[1]- integralnet_output[0]).detach().cpu() # Analytical integral of g(x) over [0, pi]\n",
    "\n",
    "# Integration domain and sample count\n",
    "domain = (L,U)\n",
    "# n_samples = 10000\n",
    "sample_sizes = [100, 1000, 10000, 100000]\n",
    "\n",
    "display_integration_results(func_to_fit, domain, cv_fn, g_integral, sample_sizes, device)\n",
    "\n",
    "# Perform the integration\n",
    "# result = cv_monte_carlo_integration(func_to_fit, cv_integral, g_integral, domain, n_samples,device=device)\n",
    "# print(f\"Estimated integral of f(x): {result}\")\n"
   ]
  },
  {
   "cell_type": "code",
   "execution_count": 17,
   "metadata": {},
   "outputs": [
    {
     "name": "stdout",
     "output_type": "stream",
     "text": [
      "+-------------+------------------------------------------------+\n",
      "| Sample Size | Integration Result without NCV(mean ± std.dev) |\n",
      "+-------------+------------------------------------------------+\n",
      "|     100     |                11.4685 ± 7.5675                |\n",
      "|     1000    |                9.3674 ± 2.3269                 |\n",
      "|    10000    |                15.0874 ± 0.7455                |\n",
      "|    100000   |                14.3174 ± 0.2375                |\n",
      "|  Scipy Quad |                14.6053 ± 0.0000                |\n",
      "+-------------+------------------------------------------------+\n"
     ]
    }
   ],
   "source": [
    "import numpy as np\n",
    "from prettytable import PrettyTable\n",
    "from scipy.integrate import quad\n",
    "\n",
    "def monte_carlo_integration_withstd(func, a, b, num_samples):\n",
    "    samples = np.random.uniform(a, b, num_samples)\n",
    "    func_values = func(samples)\n",
    "    average_value = np.mean(func_values)\n",
    "    integral_estimate = (b - a) * average_value\n",
    "    return integral_estimate, np.std(func_values) * (b - a) / np.sqrt(num_samples)\n",
    "\n",
    "def f(x):\n",
    "    return integral_xcosx_fn_numpy(x)\n",
    "\n",
    "def display_integration_results_normal(func, a, b, sample_sizes):\n",
    "    # Numerical quadrature integration\n",
    "    quad_result, _ = quad(func, a, b)\n",
    "\n",
    "    # Create a PrettyTable\n",
    "    table = PrettyTable()\n",
    "    table.field_names = [\"Sample Size\", \"Integration Result without NCV(mean ± std.dev)\"]\n",
    "\n",
    "    # Compute and add results for different sample sizes\n",
    "    for num_samples in sample_sizes:\n",
    "        mc_mean, mc_std = monte_carlo_integration_withstd(func, a, b, num_samples)\n",
    "        table.add_row([num_samples, f\"{mc_mean:.4f} ± {mc_std:.4f}\"])\n",
    "\n",
    "    # Add the quadrature result to the table\n",
    "    table.add_row([\"Scipy Quad\", f\"{quad_result:.4f} ± 0.0000\"])\n",
    "\n",
    "    # Print the table\n",
    "    print(table)\n",
    "\n",
    "# Example usage\n",
    "a = L\n",
    "b = U\n",
    "sample_sizes = [100, 1000, 10000, 100000]\n",
    "\n",
    "display_integration_results_normal(f, a, b, sample_sizes)"
   ]
  },
  {
   "cell_type": "code",
   "execution_count": 18,
   "metadata": {},
   "outputs": [
    {
     "name": "stdout",
     "output_type": "stream",
     "text": [
      "tensor([[ 1.8018],\n",
      "        [-1.7769]], device='mps:0')\n",
      "tensor([[ 1.8018],\n",
      "        [-1.7769]], device='mps:0')\n",
      "tensor([[-0.2917],\n",
      "        [-0.2924]], device='mps:0')\n"
     ]
    }
   ],
   "source": [
    "with torch.no_grad():\n",
    "    integralnet_output = net(bounds_tensor).data\n",
    "with torch.no_grad():\n",
    "    int2 = cv_integral.compute_graph_fast2({'x_coords': bounds_tensor ,'params': None})\n",
    "with torch.no_grad():\n",
    "    gradnet_output = cv_fn.compute_graph_fast2({'x_coords': bounds_tensor ,'params': None})\n",
    "print(integralnet_output)\n",
    "print(int2)\n",
    "print(gradnet_output)"
   ]
  }
 ],
 "metadata": {
  "kernelspec": {
   "display_name": "autoint",
   "language": "python",
   "name": "python3"
  },
  "language_info": {
   "codemirror_mode": {
    "name": "ipython",
    "version": 3
   },
   "file_extension": ".py",
   "mimetype": "text/x-python",
   "name": "python",
   "nbconvert_exporter": "python",
   "pygments_lexer": "ipython3",
   "version": "3.10.16"
  }
 },
 "nbformat": 4,
 "nbformat_minor": 2
}
